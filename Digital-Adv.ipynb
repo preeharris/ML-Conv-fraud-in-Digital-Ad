{
 "cells": [
  {
   "cell_type": "code",
   "execution_count": 1,
   "id": "565ff989",
   "metadata": {},
   "outputs": [],
   "source": [
    "from numpy import mean\n",
    "from numpy import std\n",
    "from pandas import read_csv\n",
    "from sklearn.model_selection import train_test_split\n",
    "from sklearn.linear_model import LogisticRegression\n",
    "from sklearn import svm\n",
    "from sklearn.preprocessing import StandardScaler\n",
    "from sklearn.neighbors import KNeighborsClassifier\n",
    "from xgboost import XGBClassifier\n",
    "from sklearn.naive_bayes import GaussianNB\n",
    "from sklearn.preprocessing import LabelEncoder\n",
    "from sklearn.preprocessing import OrdinalEncoder\n",
    "from sklearn.metrics import accuracy_score\n",
    "import pandas as pd\n",
    "import numpy as np\n",
    "from numpy import array\n",
    "from numpy import argmax\n",
    "from sklearn.preprocessing import LabelEncoder\n",
    "from sklearn.preprocessing import OneHotEncoder"
   ]
  },
  {
   "cell_type": "code",
   "execution_count": 2,
   "id": "cb76b7fd",
   "metadata": {},
   "outputs": [],
   "source": [
    "# load the dataset\n",
    "dataset = read_csv('Downloads/AllDataSet/training.csv')\n",
    "testset = read_csv('Downloads/AllDataSet/testing.csv')\n",
    "data = dataset.values\n",
    "test = testset.values\n",
    "X = data[:, :-1].astype(str)\n",
    "y = data[:, -1].astype(str)\n",
    "X_train, X_test, y_train, y_test = train_test_split(X, y, test_size=0.20, random_state=1)\n",
    "X2 = test[:, :1].astype(str)\n",
    "x_test = test[:, 1:-1].astype(str)\n",
    "\n",
    "# ordinal encode input variables\n",
    "ordinal_encoder = OrdinalEncoder(handle_unknown='ignore')\n",
    "ordinal_encoder.fit(X_train)\n",
    "X_train = ordinal_encoder.transform(X_train)\n",
    "X_test = ordinal_encoder.transform(X_test)\n",
    "x_test = ordinal_encoder.transform(x_test)\n",
    "\n",
    "# ordinal encode target variable\n",
    "label_encoder = LabelEncoder()\n",
    "integer_encoded = label_encoder.fit_transform(y_train)\n",
    "\n",
    "# binary encode\n",
    "onehot_encoder = OneHotEncoder(sparse=False)\n",
    "integer_encoded = integer_encoded.reshape(len(integer_encoded), 1)\n",
    "onehot_encoded = onehot_encoder.fit_transform(integer_encoded)"
   ]
  },
  {
   "cell_type": "code",
   "execution_count": 3,
   "id": "fc0864b6",
   "metadata": {},
   "outputs": [
    {
     "name": "stdout",
     "output_type": "stream",
     "text": [
      "LogisticRegression(max_iter=1000)\n",
      "[[120   0]\n",
      " [ 22  21]]\n",
      "              precision    recall  f1-score   support\n",
      "\n",
      "       False       0.85      1.00      0.92       120\n",
      "        True       1.00      0.49      0.66        43\n",
      "\n",
      "    accuracy                           0.87       163\n",
      "   macro avg       0.92      0.74      0.79       163\n",
      "weighted avg       0.89      0.87      0.85       163\n",
      "\n",
      "Accuracy: 86.50\n"
     ]
    },
    {
     "name": "stderr",
     "output_type": "stream",
     "text": [
      "C:\\Users\\Manisha\\anaconda3\\lib\\site-packages\\sklearn\\linear_model\\_logistic.py:763: ConvergenceWarning: lbfgs failed to converge (status=1):\n",
      "STOP: TOTAL NO. of ITERATIONS REACHED LIMIT.\n",
      "\n",
      "Increase the number of iterations (max_iter) or scale the data as shown in:\n",
      "    https://scikit-learn.org/stable/modules/preprocessing.html\n",
      "Please also refer to the documentation for alternative solver options:\n",
      "    https://scikit-learn.org/stable/modules/linear_model.html#logistic-regression\n",
      "  n_iter_i = _check_optimize_result(\n"
     ]
    }
   ],
   "source": [
    "#Logistic Regression\n",
    "from sklearn.metrics import classification_report\n",
    "from sklearn.metrics import confusion_matrix\n",
    "logmodel = LogisticRegression(solver='lbfgs', max_iter=1000)\n",
    "print(logmodel.fit(X_train,y_train))          \n",
    "y_pred = logmodel.predict(X_test)\n",
    "y_pred2 = logmodel.predict(x_test)\n",
    "confusion_matrix = confusion_matrix(y_test,y_pred)\n",
    "print(confusion_matrix)\n",
    "print(classification_report(y_test,y_pred))\n",
    "accuracy = accuracy_score(y_test, y_pred)\n",
    "print('Accuracy: %.2f' % (accuracy*100))\n",
    "record_id = pd.DataFrame(X2, columns = ['record_id'])\n",
    "df = pd.DataFrame(y_pred2, columns = ['conversion_fraud'])\n",
    "result = pd.concat([record_id, df], axis=1, join='inner')\n",
    "result.to_csv('Downloads/AllDataSet/Result/lr_result.csv', index=False)"
   ]
  },
  {
   "cell_type": "code",
   "execution_count": 4,
   "id": "52b6bc72",
   "metadata": {},
   "outputs": [
    {
     "name": "stdout",
     "output_type": "stream",
     "text": [
      "LinearSVC(dual=False)\n",
      "[[120   0]\n",
      " [ 22  21]]\n",
      "              precision    recall  f1-score   support\n",
      "\n",
      "       False       0.85      1.00      0.92       120\n",
      "        True       1.00      0.49      0.66        43\n",
      "\n",
      "    accuracy                           0.87       163\n",
      "   macro avg       0.92      0.74      0.79       163\n",
      "weighted avg       0.89      0.87      0.85       163\n",
      "\n",
      "Accuracy: 86.50\n"
     ]
    }
   ],
   "source": [
    "#Support Vector Machine\n",
    "svmmodel = svm.LinearSVC(dual=False)\n",
    "print(svmmodel.fit(X_train,y_train))          \n",
    "y_pred=svmmodel.predict(X_test)\n",
    "y_pred2=svmmodel.predict(x_test)\n",
    "from sklearn.metrics import confusion_matrix\n",
    "confusion_matrix=confusion_matrix(y_test,y_pred)\n",
    "print(confusion_matrix)\n",
    "from sklearn.metrics import classification_report\n",
    "print(classification_report(y_test,y_pred))\n",
    "accuracy = accuracy_score(y_test, y_pred)\n",
    "print('Accuracy: %.2f' % (accuracy*100))\n",
    "record_id = pd.DataFrame(X2, columns = ['record_id'])\n",
    "df = pd.DataFrame(y_pred2, columns = ['conversion_fraud'])\n",
    "result = pd.concat([record_id, df], axis=1, join='inner')\n",
    "result.to_csv('Downloads/AllDataSet/Result/svm_result.csv', index=False)"
   ]
  },
  {
   "cell_type": "code",
   "execution_count": 5,
   "id": "a51358b3",
   "metadata": {},
   "outputs": [
    {
     "name": "stdout",
     "output_type": "stream",
     "text": [
      "[[117   3]\n",
      " [ 16  27]]\n",
      "              precision    recall  f1-score   support\n",
      "\n",
      "       False       0.88      0.97      0.92       120\n",
      "        True       0.90      0.63      0.74        43\n",
      "\n",
      "    accuracy                           0.88       163\n",
      "   macro avg       0.89      0.80      0.83       163\n",
      "weighted avg       0.89      0.88      0.88       163\n",
      "\n",
      "Accuracy: 88.34\n"
     ]
    }
   ],
   "source": [
    "#KNN\n",
    "scaler = StandardScaler()\n",
    "scaler.fit(X_train)\n",
    "X_train = scaler.transform(X_train)\n",
    "X_test = scaler.transform(X_test)\n",
    "classifier = KNeighborsClassifier(n_neighbors=5)\n",
    "classifier.fit(X_train, y_train)\n",
    "y_pred = classifier.predict(X_test)\n",
    "y_pred2 = classifier.predict(x_test)\n",
    "from sklearn.metrics import classification_report, confusion_matrix\n",
    "print(confusion_matrix(y_test, y_pred))\n",
    "print(classification_report(y_test, y_pred))\n",
    "accuracy = accuracy_score(y_test, y_pred)\n",
    "print('Accuracy: %.2f' % (accuracy*100))\n",
    "record_id = pd.DataFrame(X2, columns = ['record_id'])\n",
    "df = pd.DataFrame(y_pred2, columns = ['conversion_fraud'])\n",
    "result = pd.concat([record_id, df], axis=1, join='inner')\n",
    "result.to_csv('Downloads/AllDataSet/Result/knn_result.csv', index=False)"
   ]
  },
  {
   "cell_type": "code",
   "execution_count": null,
   "id": "17e1d9d9",
   "metadata": {},
   "outputs": [],
   "source": []
  }
 ],
 "metadata": {
  "kernelspec": {
   "display_name": "Python 3",
   "language": "python",
   "name": "python3"
  },
  "language_info": {
   "codemirror_mode": {
    "name": "ipython",
    "version": 3
   },
   "file_extension": ".py",
   "mimetype": "text/x-python",
   "name": "python",
   "nbconvert_exporter": "python",
   "pygments_lexer": "ipython3",
   "version": "3.8.8"
  }
 },
 "nbformat": 4,
 "nbformat_minor": 5
}
